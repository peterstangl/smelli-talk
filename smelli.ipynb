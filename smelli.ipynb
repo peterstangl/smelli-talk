{
 "cells": [
  {
   "cell_type": "markdown",
   "metadata": {
    "slideshow": {
     "slide_type": "slide"
    }
   },
   "source": [
    "<p style='font-size:250%;padding-top:0.2em;margin-top:2em;margin-bottom:2em;'>Towards a global SMEFT likelihood</p>\n",
    "\n",
    "<div style=\"clear:left;\"></div>\n",
    "\n",
    "**Peter Stangl** | University of Bern\n",
    "\n",
    "<p style=\"height:3em;\"></p>\n",
    "\n",
    "<span style='float:left;margin-top:1em;margin-right:1em;height:2em;'>Implementation:</span><img style=\"float:left;margin-right:1em;margin-top:0.6em;height:2em;\" src=\"img/smelli.svg\"><p style=\"float:left;margin-right:3em;height:2em;\">**`smelli`** - the **SME**FT **L**ike**LI**hood</p>\n",
    "<span style='clear:both;float:left;margin-top:1em;margin-right:4em;height:2em;'>Based on:</span><img style=\"float:left;margin-right:1em;margin-top:0.6em;height:2em;\" src=\"img/flavio.svg\"><p style=\"float:left;margin-right:3em;height:2em;\">`flavio`</p>\n",
    "<img style=\"float:left;margin-right:1em;margin-top:0.6em;height:2em;\" src=\"img/wilson.png\"><p style=\"float:left;margin-right:3em;height:2em;\">`wilson`</p>\n",
    "<img style=\"float:left;margin-right:1em;margin-top:0.6em;height:2em;\" src=\"img/wcxf.svg\"><p style=\"float:left;height:3em;\">`WCxf`</p>"
   ]
  },
  {
   "cell_type": "markdown",
   "metadata": {
    "slideshow": {
     "slide_type": "slide"
    }
   },
   "source": [
    "# Motivation:\n",
    "# Lessons learned from the $B$ anomalies"
   ]
  },
  {
   "cell_type": "markdown",
   "metadata": {
    "slideshow": {
     "slide_type": "subslide"
    }
   },
   "source": [
    "## $b\\to s\\,\\ell\\ell$ anomaly\n",
    "<img style=\"float:left;width:15em;margin-right:2em;\" src=\"img/P5p.svg\"/>\n",
    "<img style=\"float:left;width:15em;\" src=\"img/BF_Kp_1403_8044_LHCb.svg\"/>\n",
    "<p style=\"clear:left;height:0em;margin:0em;\"></p>\n",
    "<img style=\"float:left;width:15em;margin-right:2em;\" src=\"img/RK_LHCb_2019.svg\"/>\n",
    "<img style=\"float:left;width:15em;margin-top:1em;\" src=\"img/RKstar_Belle_2019.svg\"/>\n",
    "<p style=\"clear:left;height:0em;margin:0em;\"></p>\n",
    "<p style=\"text-align:right;font-size:60%;color:#91ac6b;width:55em;margin:0em;\">\n",
    "LHCb, arXiv:2003.04831, arXiv:1403.8044, arXiv:1506.08777, arXiv:1606.04731, arXiv:1705.05802, arXiv:1903.09252<br>Belle, arXiv:1904.02440, arXiv:1908.01848</p>"
   ]
  },
  {
   "cell_type": "markdown",
   "metadata": {
    "slideshow": {
     "slide_type": "subslide"
    }
   },
   "source": [
    "## $b\\to c\\,\\tau\\nu$ anomaly\n",
    "\n",
    "<img style=\"width:32em;\" src=\"img/rdrds_spring2019.svg\"/>\n",
    "<p style=\"text-align:right;font-size:60%;color:#91ac6b;width:55em\">\n",
    "BaBar, arXiv:1205.5442, arXiv:1303.0571<br>LHCb, arXiv:1506.08614, arXiv:1708.08856<br>Belle, arXiv:1507.03233, arXiv:1607.07923, arXiv:1612.00529, arXiv:1904.08794</p>\n",
    "\n",
    "\n"
   ]
  },
  {
   "cell_type": "markdown",
   "metadata": {
    "slideshow": {
     "slide_type": "subslide"
    }
   },
   "source": [
    "## Model building - lessons learned"
   ]
  },
  {
   "cell_type": "markdown",
   "metadata": {
    "slideshow": {
     "slide_type": "-"
    }
   },
   "source": [
    "<ul style=\"float:left;width:28em;margin-top:0.2em;\"><li>\n",
    "    Model explaining $R_{D^{(*)}}$ using $b_L\\to c_L\\tau_L\\nu_{\\tau L}$\n",
    "    <p style=\"margin-left:2em;\">$b_L\\to c_L\\tau_L\\nu_{\\tau L}$ $\\quad\\xrightarrow{SU(2)_L}\\quad$ $b_L\\to s_L\\nu_{\\mu L}\\nu_{\\tau L}$</p>\n",
    "        Constrained by $B\\to K\\nu\\bar{\\nu}$ searches\n",
    "    <p style=\"text-align:right;font-size:60%;color:#91ac6b;padding-right:3em;margin-top:0.5em;\">\n",
    "    Buras, Girrbach-Noe, Niehoff, Straub, arXiv:1409.4557</p>\n",
    "</li></ul>\n",
    "        <img style=\"float:left;margin-left:2em;margin-top:0.5em;height:6em;\"; src=\"img/bctaunu_bsnunu.svg\"/>"
   ]
  },
  {
   "cell_type": "markdown",
   "metadata": {
    "slideshow": {
     "slide_type": "fragment"
    }
   },
   "source": [
    "<ul style=\"float:left;width:27em;margin-top:0.2em;\"><li>\n",
    "    Model explaining $R_{D^{(*)}}$ and $R_{K^{(*)}}$ using mostly 3rd gen. couplings\n",
    " <br>\n",
    " Modifies LFU in $\\tau$ and $Z$ decays, strongly constrained\n",
    "    <p style=\"text-align:right;font-size:60%;color:#91ac6b;padding-right:3em;margin-top:0.5em;\">\n",
    "    Feruglio, Paradisi, Pattori, arXiv:1705.00929</p>\n",
    "</li></ul>\n",
    "        <img style=\"float:left;margin-left:2em;margin-top:0em;height:7em;\"; src=\"img/taulfu-penguin.svg\"/>"
   ]
  },
  {
   "cell_type": "markdown",
   "metadata": {
    "slideshow": {
     "slide_type": "fragment"
    }
   },
   "source": [
    "<ul style=\"float:left;width:27em;margin-top:0.2em;\"><li>\n",
    "    Model explaining $b\\to s\\mu\\mu$ using $tt\\mu\\mu$ interaction\n",
    " <br>\n",
    " Modifies $Z\\to\\mu\\mu$, constrained by LEP\n",
    "    <p style=\"text-align:right;font-size:60%;color:#91ac6b;padding-right:3em;margin-top:0.5em;\">\n",
    " Camargo-Molina, Celis, Faroughy, arXiv:1805.04917</p>\n",
    "</li></ul>\n",
    "        <img style=\"float:left;margin-left:1.5em;margin-top:0em;height:5em;\"; src=\"img/diagrams-ttmumu.png\"/>\n",
    "        <p style=\"clear:left;\"></p>"
   ]
  },
  {
   "cell_type": "markdown",
   "metadata": {
    "slideshow": {
     "slide_type": "subslide"
    }
   },
   "source": [
    "## What one would have to do"
   ]
  },
  {
   "cell_type": "markdown",
   "metadata": {},
   "source": [
    "- Compute **all relevant observables** $\\vec{O}$ (flavour,\n",
    "  EWPO, ...) in terms of Lagrangian parameters $\\vec\\xi$\n",
    "  <p style=\"margin-left:2em;\">$\\mathcal L_\\text{NP}(\\vec\\xi) \\to \\vec{O}(\\vec{\\xi})$</p>"
   ]
  },
  {
   "cell_type": "markdown",
   "metadata": {},
   "source": [
    "- Take into account loop / RGE effects\n",
    "  <p style=\"margin-left:2em;\">$\\mathcal L_\\text{NP}(\\vec\\xi) \\xrightarrow{\\Lambda_\\text{NP}\\to \\Lambda_\\text{IR}} \\vec{O}(\\vec{\\xi})$</p>"
   ]
  },
  {
   "cell_type": "markdown",
   "metadata": {},
   "source": [
    "- Compare to experiment\n",
    "<p style=\"margin-left:2em;width:35em\">$\\vec{O}(\\vec{\\xi}) \\to \\underbrace{\\mathcal L_\\text{exp}(\\vec{O}(\\vec{\\xi}))}_\\text{Likelihood}$</p>"
   ]
  },
  {
   "cell_type": "markdown",
   "metadata": {
    "slideshow": {
     "slide_type": "-"
    }
   },
   "source": [
    "Tedious to do this for each model..."
   ]
  },
  {
   "cell_type": "markdown",
   "metadata": {
    "slideshow": {
     "slide_type": "subslide"
    }
   },
   "source": [
    "## The SMEFT approach"
   ]
  },
  {
   "cell_type": "markdown",
   "metadata": {},
   "source": [
    "- Assuming $\\Lambda_\\text{NP}\\gg v$, NP effects in flavour, EWPO, Higgs, top,... can be expressed in terms of Standard Model Effective Field Theory (SMEFT) Wilson coefficients\n",
    "  <p style=\"margin-left:2em;\">$\\mathcal L_\\text{SMEFT} = \\mathcal L_\\text{SM} + \\sum_{n>4}\\sum_i \\frac{C_i}{\\Lambda^{n-4}}O_i$</p>\n",
    "  \n",
    "  \n",
    "<p style=\"text-align:right;font-size:60%;color:#91ac6b;padding-right:3em;margin-top:-3.7em;\">\n",
    " Buchmuller, Wyler, Nucl. Phys. B 268 (1986) 621\n",
    " <br>\n",
    " Grzadkowski, Iskrzynski, Misiak, Rosiek, arXiv:1008.4884</p>"
   ]
  },
  {
   "cell_type": "markdown",
   "metadata": {},
   "source": [
    "- Powerful tool to connect model-building to phenomenology without\n",
    "  need to recompute hundreds of observables in each model\n",
    "\n",
    "  - Model building and matching:\n",
    "  <p style=\"text-align:right;font-size:60%;color:#de7300;padding-right:3em;margin-top:-1.8em;margin-bottom:0em;\">\n",
    " see talks by\n",
    "    <a href=\"https://indico.icc.ub.edu/event/128/contributions/1426/\">Supratim Das Bakshi</a>,\n",
    "    <a href=\"https://indico.icc.ub.edu/event/128/contributions/1427/\">Matthias K&ouml;nig</a>, \n",
    "    <a href=\"https://indico.icc.ub.edu/event/128/contributions/1428/\">Juan Carlos Criado</a>, and \n",
    "    <a href=\"https://indico.icc.ub.edu/event/128/contributions/1435/\">Achillefs Lazopoulos</a></p>\n",
    "    <p style=\"margin-left:2em;margin-bottom:1em;\">$\\mathcal L_\\text{NP}(\\vec\\xi) \\to \\vec{C}(\\vec\\xi)\\ \\ \\ \\text{@}\\ \\ \\Lambda_\\text{NP}$</p>\n",
    "  - *Model-independent* pheno:\n",
    "    <p style=\"margin-left:2em;margin-bottom:1em;\">$\\vec{C}\\xrightarrow{\\Lambda_\\text{NP}\\to \\Lambda_\\text{IR}} \\vec{O}(\\vec{C}) \\to \\mathcal L_\\text{exp}(\\vec{O}(\\vec{C}))$</p>\n",
    "  - **SMEFT likelihood** $L_\\text{exp}(\\vec{C})$ can\n",
    "    tremendously simplify analyses of NP models"
   ]
  },
  {
   "cell_type": "markdown",
   "metadata": {
    "slideshow": {
     "slide_type": "slide"
    }
   },
   "source": [
    "# The global SMEFT likelihood"
   ]
  },
  {
   "cell_type": "markdown",
   "metadata": {
    "slideshow": {
     "slide_type": "subslide"
    }
   },
   "source": [
    "## The Global SMEFT likelihood"
   ]
  },
  {
   "cell_type": "markdown",
   "metadata": {},
   "source": [
    "- **SMEFT likelihood function** $\\mathcal L(\\vec{C})$ can tremendously simplify analyses of NP models"
   ]
  },
  {
   "cell_type": "markdown",
   "metadata": {
    "slideshow": {
     "slide_type": "-"
    }
   },
   "source": [
    "- Several likelihood functions have been considered in the context of EFT fits\n",
    "    <p style=\"margin-left:2em;\">\n",
    "    $\\mathcal L(\\vec C) = \\mathcal L_\\text{EW + Higgs}(\\vec C_\\text{EW + Higgs}) \\times \\ldots$<br>\n",
    "    $\\mathcal L(\\vec C) = \\mathcal L_\\text{top physics}(\\vec C_\\text{top physics}) \\times \\ldots$<br>\n",
    "    $\\mathcal L(\\vec C) = \\mathcal L_\\text{$B$ physics}(\\vec C_\\text{$B$ physics}) \\times \\ldots$<br>\n",
    "    $\\mathcal L(\\vec C) = \\mathcal L_\\text{LFV}(\\vec C_\\text{LFV}) \\times \\ldots$\n",
    "    </p>\n",
    "    \n",
    "\n",
    "<p style=\"text-align:right;font-size:60%;color:#91ac6b;padding-right:3em;margin-top:-9em;\">\n",
    "cf. eg.\n",
    "Falkowski, Mimouni, arXiv:1511.07434<br>\n",
    "Falkowski, González-Alonso, Mimouni, arXiv:1706.03783<br>\n",
    "Ellis, Murphy, Sanz, You, arXiv:1803.03252<br>\n",
    "Biekötter, Corbett, Plehn, arXiv:1812.07587<br>\n",
    "Hartland et al., arXiv:1901.05965<br>\n",
    "Ellis, Madigan, Mimasu, Sanz, You, arXiv:2012.02779<br>\n",
    "...\n",
    "</p>"
   ]
  },
  {
   "cell_type": "markdown",
   "metadata": {},
   "source": [
    "- But these likelihood functions should **not be considered separately** since RG (loop) effects mix different sectors and UV models match to several sectors"
   ]
  },
  {
   "cell_type": "markdown",
   "metadata": {},
   "source": [
    "- We need to consider the **global SMEFT likelihood**"
   ]
  },
  {
   "cell_type": "markdown",
   "metadata": {
    "slideshow": {
     "slide_type": "subslide"
    }
   },
   "source": [
    "## Basis for implementation"
   ]
  },
  {
   "cell_type": "markdown",
   "metadata": {},
   "source": [
    "- Computing hundreds of relevant observables properly accounting for theory uncertainties\n",
    "  - $\\phantom{}$<img style=\"float:left;margin-right:0.5em;margin-top:0;height:1.5em;\" src=\"img/flavio.svg\"><p style=\"float:left;height:1.5em;margin:0em;padding-top:0.2em\">**flavio** https://flav-io.github.io</p>\n",
    "  <p style=\"float:left;width:100%;margin:0em;text-align:right;font-size:60%;color:#91ac6b;padding-right:3em;margin-top:-2.3em;\">Straub, arXiv:1810.08132</p>\n",
    "  <p style=\"clear:left;margin:0em;height:0em;padding:0em\"></p>\n",
    "  - Already used in $\\mathcal{O}(100)$ papers since 2016"
   ]
  },
  {
   "cell_type": "markdown",
   "metadata": {},
   "source": [
    "- Representing and exchanging thousands of Wilson coefficient values,\n",
    "  different EFTs, possibly different bases\n",
    "  - $\\phantom{}$<img style=\"float:left;margin-right:0.5em;margin-top:0;height:1.5em;\" src=\"img/wcxf.svg\"><p style=\"float:left;height:1.5em;margin:0em;padding-top:0.2em\">**Wilson coefficient exchange format (WCxf)** https://wcxf.github.io</p><p style=\"float:left;width:100%;margin:0em;text-align:right;font-size:60%;color:#91ac6b;padding-right:3em;margin-top:-0.1em;\">Aebischer et al., arXiv:1712.05298</p>\n",
    "  <p style=\"clear:left;margin:0em;height:0em;padding:0em\"></p>"
   ]
  },
  {
   "cell_type": "markdown",
   "metadata": {},
   "source": [
    "- RG evolution above and below the EW scale, matching from SMEFT to the weak effective theory (WET)\n",
    "  - $\\phantom{}$<img style=\"float:left;margin-right:0.5em;margin-top:0;height:1.5em;\" src=\"img/wilson.png\"><p style=\"float:left;height:1.5em;margin:0em;padding-top:0.2em\">**wilson** https://wilson-eft.github.io</p><p style=\"float:left;width:100%;margin:0em;text-align:right;font-size:60%;color:#91ac6b;padding-right:3em;margin-top:-2.3em;\">Aebischer, Kumar, Straub, arXiv:1804.05033\n",
    "</p><p style=\"float:left;width:100%;margin:0em;text-align:right;font-size:60%;color:#91ac6b;padding-right:3em;margin-top:0.1em;\">based on<br>\n",
    "SMEFT RGE: Alonso, Jenkins, Manohar, Trott, arXiv:1308.2627, arXiv:1310.4838, arXiv:1312.2014<br>\n",
    "(ported from DsixTools: Celis, Fuentes-Martin, Vicente, Virto, arXiv:1704.04504, <span style=\"color:#de7300;\">see talk by <a href=\"https://indico.icc.ub.edu/event/128/contributions/1438/\">Avelino Vicente</a></span>)<br>\n",
    "SMEFT$\\to$ WET matching: Jenkins, Manohar, Stoffer, arXiv:1709.04486<br>\n",
    "WET RGE: Jenkins, Manohar, Stoffer, arXiv:1711.05270\n",
    "</p>\n",
    "\n",
    "\n",
    "  <p style=\"clear:left;margin:0em;height:0em;padding:0em\"></p>"
   ]
  },
  {
   "cell_type": "markdown",
   "metadata": {
    "slideshow": {
     "slide_type": "subslide"
    }
   },
   "source": [
    "## Implementing the global SMEFT likelihood"
   ]
  },
  {
   "cell_type": "markdown",
   "metadata": {},
   "source": [
    "-  Based on these tools, we have started building the **SME**FT **L**ike**LI**hood\n",
    "  - $\\phantom{}$<img style=\"float:left;margin-right:0.5em;margin-top:0em;height:1.5em;\" src=\"img/smelli.svg\"><p style=\"float:left;height:1.5em;margin:0em;padding-top:0.2em\">`smelli` https://github.com/smelli</p>\n",
    "  <p style=\"float:left;width:100%;margin:0em;text-align:right;font-size:60%;color:#91ac6b;padding-right:3em;padding-left:3em;margin-top:-2.3em;\">Aebischer, Kumar, PS, Straub, arXiv:1810.07698\n",
    "</p>\n",
    "  <p style=\"clear:left;margin:0em;height:0em;padding:0em\"></p>"
   ]
  },
  {
   "cell_type": "markdown",
   "metadata": {},
   "source": [
    "<ul style=\"float:left;width:26em;margin-top:0.2em;\"><li>\n",
    "    $\n",
    "  L(\\vec C) \\approx\n",
    "  \\prod_{i} L_\\text{exp}^i(\\vec{O}_\\text{th}(\\vec C, \\vec \\theta_0))\n",
    "  \\times\n",
    "  \\tilde{L}_\\text{exp}(\\vec{O}_\\text{th}(\\vec C, \\vec \\theta_0))\n",
    "     $\n",
    "    where\n",
    "    <ul>\n",
    "        <li>$\\vec C$ WET or SMEFT Wilson coefficients</li>\n",
    "        <li>$\\vec \\theta_0$ fixed nuisance parameters</li>\n",
    "        <li>$\\vec{O}_\\text{th}(\\vec C, \\vec \\theta_0)$ observable predictions</li>\n",
    "        <li>$ L_\\text{exp}^i(\\vec{O})$ experimental likelihood from<br>measurement $i$ for observables $\\vec{O}$</li>\n",
    "        <li>$\\tilde{L}_\\text{exp}(\\vec O)$ modified exp. likelihood:<br>$-2\\ln \\tilde{L}_\\text{exp}(\\vec O)=\\vec D^T (\\Sigma_\\text{exp}+\\Sigma_\\text{th})^{-1} \\vec D \\,,$<br>with $\\vec D = \\vec O - \\vec O_\\text{exp}$ and\n",
    "      covariance<br>matrices $\\Sigma_\\text{exp,th}$ (Gaussian approx.)</li>\n",
    "    </ul>\n",
    "    </li></ul>\n",
    "        <img style=\"float:left;margin-left:2em;margin-top:1em;height:12em;\"; src=\"img/sketch-new.svg\"/>"
   ]
  },
  {
   "cell_type": "markdown",
   "metadata": {
    "slideshow": {
     "slide_type": "slide"
    }
   },
   "source": [
    "# Development of `smelli`"
   ]
  },
  {
   "cell_type": "markdown",
   "metadata": {
    "slideshow": {
     "slide_type": "subslide"
    }
   },
   "source": [
    "## `smelli v1.1.1`: Flavor + EWPT\n",
    "  <p style=\"float:left;width:100%;margin:0em;text-align:right;font-size:60%;color:#91ac6b;padding-right:3em;padding-left:3em;margin-top:-1em;\">Aebischer, Kumar, PS, Straub, arXiv:1810.07698\n",
    "</p>"
   ]
  },
  {
   "cell_type": "markdown",
   "metadata": {},
   "source": [
    "<p><img style=\"float:left;margin-left:5em;margin-top:-1em;height:25em;\"; src=\"img/smelli_obs_1901.svg\"/></p>"
   ]
  },
  {
   "cell_type": "markdown",
   "metadata": {
    "slideshow": {
     "slide_type": "subslide"
    }
   },
   "source": [
    "## `smelli v2.0`: Higgs & beta decays, $K\\!\\!\\to\\!\\pi\\ell\\nu$, $e^+e^-\\!\\!\\to\\! W^+ W^-$"
   ]
  },
  {
   "cell_type": "markdown",
   "metadata": {},
   "source": [
    "### New observables\n",
    "- **Higgs physics**: signal strengths for various decay ($h\\to \\gamma\\gamma$, $Z\\gamma$, $ZZ$, $WW$, $bb$, $cc$, $\\tau\\tau$, $\\mu\\mu$) and production ($gg$, VBF, $Zh$, $Wh$, $t\\bar{t}h$) channels\n",
    "<p style=\"text-align:right;font-size:60%;color:#91ac6b;padding-right:3em;margin-top:-2.2em;\">Falkowski, Straub, arXiv:1911.07866</p>\n",
    "- **Beta decays**: lifetime and correlation coefficients of neutron beta decay, superallowed nuclear beta decays\n",
    "<p style=\"text-align:right;font-size:60%;color:#91ac6b;padding-right:3em;margin-top:-2.2em;\">based on Gonzalez-Alonso, Naviliat-Cuncic, Severijns,  \tarXiv:1803.08732</p>\n",
    "- $\\mathbf{K\\to \\pi \\ell\\nu}$: total branching ratios of $K^+\\to\\pi^0\\ell^+\\nu, K_{L,S}\\to\\pi^\\pm\\ell^\\mp\\nu$  ($\\ell=e,\\mu$), and $K^+\\to\\pi^0\\mu^+\\nu$ effective scalar form factor $\\ln C$ and tensor coupling $R_T$\n",
    "- $\\mathbf{e^{+} e^{-}\\to W^{+} W^{-}}$: total and differential cross sections for $e^+ e^-\\to W^+ W^-$ pair production measured in LEP-2"
   ]
  },
  {
   "cell_type": "markdown",
   "metadata": {
    "slideshow": {
     "slide_type": "subslide"
    }
   },
   "source": [
    "### Proper treatment of the **CKM matrix in SMEFT**\n",
    "<p style=\"text-align:right;font-size:60%;color:#91ac6b;padding-right:3em;margin-top:0.5em;margin-bottom:-1em;\">based on Descotes-Genon, Falkowski, Fedele, González-Alonso, Virto, arXiv:1812.08163</p>\n",
    "\n",
    "- **CKM input scheme** using 4 observables to fix 4 CKM parameters:\n",
    "  - $R_{K\\pi}=\\Gamma(K^+\\to\\mu^+\\nu)/\\Gamma(\\pi^+\\to\\mu^+\\nu)$ (mostly fixing $V_{us}$)\n",
    "  - $BR(B^+\\to\\tau \\nu)$ (fixing $V_{ub}$)\n",
    "  - $BR(B\\to X_c e \\nu)$ (fixing $V_{cb}$)\n",
    "  - $\\Delta M_d/\\Delta M_s$ (mostly fixing CKM phase $\\delta$)\n",
    "- Determine **effective CKM** matrix in presence of SMEFT operators"
   ]
  },
  {
   "cell_type": "markdown",
   "metadata": {
    "slideshow": {
     "slide_type": "subslide"
    }
   },
   "source": [
    "## New developments related to `smelli`"
   ]
  },
  {
   "cell_type": "markdown",
   "metadata": {},
   "source": [
    "- New numerical methods developed for $b\\to s\\ell^+\\ell^-$ analyses\n",
    "<p style=\"text-align:right;font-size:60%;color:#91ac6b;padding-right:3em;margin-top:-2.5em;margin-bottom:0.5em;\">Altmannshofer, PS, arXiv:2103.13370</p>\n",
    "\n",
    "  - numerical efficient implementation of **NP dependence of theory covariance matrix**\n",
    "  - **computational speed increased** by orders of magnitude through numerical improvements ($\\mathcal{O}(\\text{s})\\to\\mathcal{O}(\\text{ms})$ per parameter point)<br>$\\rightarrow$ makes `smelli` suitable for parameter scans of NP models and EFT fits with many parameters\n",
    "  - will be implemented for all observables in `smelli`"
   ]
  },
  {
   "cell_type": "markdown",
   "metadata": {},
   "source": [
    "- Neutral and charged current **Drell-Yan tails** ($pp\\to \\ell^+\\ell^-,\\ \\ell \\nu~$ for $\\ell=e,\\mu$)\n",
    "<p style=\"text-align:right;font-size:60%;color:#91ac6b;padding-right:3em;margin-top:-4.5em;margin-bottom:1.7em;\">Greljo, Šalko, Smolkovič, PS, work in progress\n",
    "<br>\n",
    "    <span style=\"color:#de7300;\">see also talk by <a href=\"https://indico.icc.ub.edu/event/128/contributions/1443/\">Lukas Allwicher</a></span>\n",
    "</p>\n",
    "\n",
    "  - sensitivity to **all semi-leptonic four-fermion operators** with **all quark flavor combinations** of $u$, $d$, $s$, $c$, $b$ (from parton distributions)\n",
    "  - **complimentary to flavor physics** constraints\n",
    "  - will be implemented in `smelli`"
   ]
  },
  {
   "cell_type": "markdown",
   "metadata": {
    "slideshow": {
     "slide_type": "slide"
    }
   },
   "source": [
    "## Applications of `smelli`"
   ]
  },
  {
   "cell_type": "markdown",
   "metadata": {
    "slideshow": {
     "slide_type": "subslide"
    }
   },
   "source": [
    "## EFT fits"
   ]
  },
  {
   "cell_type": "markdown",
   "metadata": {
    "slideshow": {
     "slide_type": "-"
    }
   },
   "source": [
    "<p style=\"float:left;width:17em;margin-left:1em;margin-top:1em;text-align:center;\">Global $b\\to s\\ell\\ell$ fits</p>\n",
    "<p style=\"float:left;width:21em;margin-left:3em;margin-top:1em;text-align:center;\">Higgs + EW fit</p>\n",
    "<p style=\"clear:left;height:0em;margin:0em;\"></p>\n",
    "<img style=\"float:left;width:17em;margin-right:2em;margin-top:2em;\" src=\"img/C9_C10_TALK_5.svg\"/>\n",
    "<img style=\"float:left;width:21em;margin-left:2em;\" src=\"img/S-T-Higgs.svg\"/>\n",
    "<p style=\"clear:left;height:1em;margin:0em;\"></p>\n",
    "<p style=\"float:left;width:35em;text-align:left;font-size:60%;color:#91ac6b;margin-top:-0.5em;margin-bottom:0.5em;margin-left:0em;\">Altmannshofer, PS, arXiv:2103.13370</p>\n",
    "<p style=\"float:left;width:35em;text-align:right;font-size:60%;color:#91ac6b;margin-top:-0.5em;margin-bottom:0.5em;\">Falkowski, Straub, arXiv:1911.07866</p>"
   ]
  },
  {
   "cell_type": "markdown",
   "metadata": {
    "slideshow": {
     "slide_type": "subslide"
    }
   },
   "source": [
    "## Analyses of new physics models"
   ]
  },
  {
   "cell_type": "markdown",
   "metadata": {},
   "source": [
    "<p style=\"float:left;width:17em;margin-left:1em;margin-top:1em;text-align:center;\">$S_1$ + $S_3$ scalar leptoquarks<br>matched to SMEFT at 1 loop</p>\n",
    "<p style=\"float:left;width:23em;margin-left:3em;margin-top:1em;text-align:center;\">$Z'$ model from gauged $U(1)_X$<br>matched to SMEFT at tree level</p>\n",
    "<p style=\"clear:left;height:0em;margin:0em;\"></p>\n",
    "<img style=\"float:left;width:17em;margin-right:2em;margin-top:.5em;\" src=\"img/S1_S3_mu.svg\"/>\n",
    "<img style=\"float:left;width:21em;margin-left:2em;margin-top:1.5em;\" src=\"img/dtfhmp_plot1.svg\"/>\n",
    "<p style=\"clear:left;height:0.5em;margin:0em;\"></p>\n",
    "<p style=\"float:left;width:31em;text-align:left;font-size:60%;color:#91ac6b;margin-top:-0.5em;margin-bottom:0.5em;margin-left:0em;\">Greljo, PS, Thomsen, arXiv:2103.13991<br>\n",
    "      (matching: Gherardi, Marzocca, Venturini, arXiv:2003.12525)</p>\n",
    "<p style=\"float:left;width:39em;text-align:right;font-size:60%;color:#91ac6b;margin-top:-0.5em;margin-bottom:0.5em;\">Allanach, Camargo-Molina, Davighi, arXiv:2103.12056</p>"
   ]
  },
  {
   "cell_type": "markdown",
   "metadata": {
    "slideshow": {
     "slide_type": "slide"
    }
   },
   "source": [
    "# Using `smelli`"
   ]
  },
  {
   "cell_type": "markdown",
   "metadata": {
    "slideshow": {
     "slide_type": "subslide"
    }
   },
   "source": [
    "## Installing `smelli`"
   ]
  },
  {
   "cell_type": "markdown",
   "metadata": {},
   "source": [
    "- Requirements:\n",
    "    - working installation of **Python** version **3.7** or above\n",
    "    - **pip** (Python package manager)"
   ]
  },
  {
   "cell_type": "markdown",
   "metadata": {},
   "source": [
    "- Installation from the command line:\n",
    "\n",
    "  **`python3 -m pip install smelli --user`**\n",
    "\n",
    "  - downloads `smelli` with all dependencies from Python package archive (PyPI)\n",
    "  - installs it in user's home directory (no need to be root)"
   ]
  },
  {
   "cell_type": "markdown",
   "metadata": {
    "slideshow": {
     "slide_type": "subslide"
    }
   },
   "source": [
    "## Using smelli"
   ]
  },
  {
   "cell_type": "markdown",
   "metadata": {},
   "source": [
    "As any Python package, `smelli` can be used\n",
    "- as library imported from other scripts\n",
    "\n",
    "- directly in the command line interpreter\n",
    "\n",
    "- in an interactive session $\\rightarrow$ we recommend the **Jupyter notebook** (like this one)"
   ]
  },
  {
   "cell_type": "markdown",
   "metadata": {
    "slideshow": {
     "slide_type": "subslide"
    }
   },
   "source": [
    "## Instantiating the likelihood"
   ]
  },
  {
   "cell_type": "code",
   "execution_count": null,
   "metadata": {},
   "outputs": [],
   "source": [
    "from smelli import GlobalLikelihood"
   ]
  },
  {
   "cell_type": "code",
   "execution_count": null,
   "metadata": {},
   "outputs": [],
   "source": [
    "gl = GlobalLikelihood()"
   ]
  },
  {
   "cell_type": "code",
   "execution_count": null,
   "metadata": {},
   "outputs": [],
   "source": [
    "gl.eft, gl.basis"
   ]
  },
  {
   "cell_type": "code",
   "execution_count": null,
   "metadata": {},
   "outputs": [],
   "source": [
    "gl_wet = GlobalLikelihood(eft='WET', basis='flavio')\n",
    "gl_wet.eft, gl_wet.basis"
   ]
  },
  {
   "cell_type": "markdown",
   "metadata": {
    "slideshow": {
     "slide_type": "subslide"
    }
   },
   "source": [
    "## Fixing a point in WC space: 3 equivalent ways"
   ]
  },
  {
   "cell_type": "code",
   "execution_count": null,
   "metadata": {},
   "outputs": [],
   "source": [
    "pp = gl.parameter_point({'lq3_2223': 1e-9}, scale=1000)"
   ]
  },
  {
   "cell_type": "code",
   "execution_count": null,
   "metadata": {},
   "outputs": [],
   "source": [
    "from wilson import Wilson\n",
    "w = Wilson({'lq3_2223': 1e-9}, scale=1000, eft='SMEFT', basis='Warsaw')\n",
    "pp = gl.parameter_point(w)"
   ]
  },
  {
   "cell_type": "code",
   "execution_count": null,
   "metadata": {},
   "outputs": [],
   "source": [
    "! cat my_wcxf.yaml"
   ]
  },
  {
   "cell_type": "code",
   "execution_count": null,
   "metadata": {},
   "outputs": [],
   "source": [
    "pp = gl.parameter_point('my_wcxf.yaml')"
   ]
  },
  {
   "cell_type": "markdown",
   "metadata": {
    "slideshow": {
     "slide_type": "subslide"
    }
   },
   "source": [
    "## Computing the likelihood"
   ]
  },
  {
   "cell_type": "code",
   "execution_count": null,
   "metadata": {},
   "outputs": [],
   "source": [
    "%%time\n",
    "pp.log_likelihood_dict()"
   ]
  },
  {
   "cell_type": "code",
   "execution_count": null,
   "metadata": {},
   "outputs": [],
   "source": [
    "%%time\n",
    "pp.log_likelihood_global()"
   ]
  },
  {
   "cell_type": "code",
   "execution_count": null,
   "metadata": {
    "slideshow": {
     "slide_type": "subslide"
    }
   },
   "outputs": [],
   "source": [
    "pp.chi2_dict()"
   ]
  },
  {
   "cell_type": "code",
   "execution_count": null,
   "metadata": {},
   "outputs": [],
   "source": [
    "pp.likelihood.number_observations_dict()"
   ]
  },
  {
   "cell_type": "markdown",
   "metadata": {
    "slideshow": {
     "slide_type": "subslide"
    }
   },
   "source": [
    "## Table of observables"
   ]
  },
  {
   "cell_type": "code",
   "execution_count": null,
   "metadata": {},
   "outputs": [],
   "source": [
    "df = pp.obstable()"
   ]
  },
  {
   "cell_type": "code",
   "execution_count": null,
   "metadata": {},
   "outputs": [],
   "source": [
    "df"
   ]
  },
  {
   "cell_type": "code",
   "execution_count": null,
   "metadata": {
    "scrolled": true,
    "slideshow": {
     "slide_type": "subslide"
    }
   },
   "outputs": [],
   "source": [
    "df.sort_values('pull SM')[:3]"
   ]
  },
  {
   "cell_type": "code",
   "execution_count": null,
   "metadata": {
    "slideshow": {
     "slide_type": "-"
    }
   },
   "outputs": [],
   "source": [
    "df.loc[['Rtaul(B->D*lnu)']]"
   ]
  },
  {
   "cell_type": "markdown",
   "metadata": {
    "slideshow": {
     "slide_type": "subslide"
    }
   },
   "source": [
    "## Plots"
   ]
  },
  {
   "cell_type": "code",
   "execution_count": null,
   "metadata": {},
   "outputs": [],
   "source": [
    "import flavio.plots as fpl\n",
    "import matplotlib.pyplot as plt\n",
    "import warnings\n",
    "warnings.simplefilter('ignore')"
   ]
  },
  {
   "cell_type": "code",
   "execution_count": null,
   "metadata": {},
   "outputs": [],
   "source": [
    "gl_ewpt_higgs = GlobalLikelihood(fix_ckm=True, include_likelihoods=['likelihood_ewpt.yaml', 'likelihood_higgs.yaml'])"
   ]
  },
  {
   "cell_type": "code",
   "execution_count": null,
   "metadata": {},
   "outputs": [],
   "source": [
    "def wc_fct(S, T):\n",
    "    return {\n",
    "        'phiWB': S * 7.643950529889027e-08, # gL*gY/(16*pi*v**2)\n",
    "        'phiD': -T * 2.5793722852276787e-07, # gL**2*gY**2/(2*pi*v**2)/(gL**2+gY**2)\n",
    "    }"
   ]
  },
  {
   "cell_type": "code",
   "execution_count": null,
   "metadata": {},
   "outputs": [],
   "source": [
    "%%time\n",
    "\n",
    "plot_data = gl_ewpt_higgs.plot_data_2d(\n",
    "    wc_fct,\n",
    "    91.1876,\n",
    "    -0.2, 0.2, -0.1, 0.3,\n",
    "    steps=10,\n",
    "    threads=8,\n",
    ")"
   ]
  },
  {
   "cell_type": "code",
   "execution_count": null,
   "metadata": {
    "slideshow": {
     "slide_type": "subslide"
    }
   },
   "outputs": [],
   "source": [
    "levels_1sig = [fpl.delta_chi2(1, dof=2)]\n",
    "levels_123sig = [fpl.delta_chi2(n_sigma, dof=2) for n_sigma in (1,2,3)]\n",
    "interpolation_factor = 9"
   ]
  },
  {
   "cell_type": "code",
   "execution_count": null,
   "metadata": {
    "slideshow": {
     "slide_type": "-"
    }
   },
   "outputs": [],
   "source": [
    "plt.figure(figsize=(5,5))\n",
    "fpl.contour(**plot_data['likelihood_higgs.yaml'], levels=levels_1sig, label=r\"Higgs ($1\\sigma$)\",\n",
    "            interpolation_factor=interpolation_factor, color='C0')\n",
    "fpl.contour(**plot_data['likelihood_ewpt.yaml'], levels=levels_1sig, label=r\"EWPT ($1\\sigma$)\",\n",
    "            interpolation_factor=interpolation_factor, color='C1')\n",
    "fpl.contour(**plot_data['global'], levels=levels_123sig, label=r\"global\",\n",
    "            interpolation_factor=interpolation_factor, color='C3')\n",
    "plt.axhline(c='0.6', linewidth=1)\n",
    "plt.axvline(c='0.6', linewidth=1)\n",
    "plt.xlabel(r'$S$')\n",
    "plt.ylabel(r'$T$')\n",
    "plt.legend()\n",
    "plt.show()"
   ]
  },
  {
   "cell_type": "markdown",
   "metadata": {
    "slideshow": {
     "slide_type": "slide"
    }
   },
   "source": [
    "# Conclusions"
   ]
  },
  {
   "cell_type": "markdown",
   "metadata": {},
   "source": [
    "- Motivation: Models explaining discrepancies in $B$ decays generically predict effects in other obersevables\n",
    "\n",
    "  $\\Rightarrow$ consider as many observables as possible"
   ]
  },
  {
   "cell_type": "markdown",
   "metadata": {},
   "source": [
    "\n",
    "- **Global SMEFT likelihood** python package `smelli`: https://smelli.github.io\n",
    "    - Test models\n",
    "    - Interpret data model-independently in WET and SMEFT\n",
    "    - Currently ~400 flavour and precision observables included"
   ]
  },
  {
   "cell_type": "markdown",
   "metadata": {},
   "source": [
    "\n",
    "- Full *global* likelihood is work in progress\n",
    "    - Completely open source\n",
    "    - You are welcome to participate! $\\rightarrow$ https://github.com/smelli/smelli"
   ]
  }
 ],
 "metadata": {
  "celltoolbar": "Slideshow",
  "kernelspec": {
   "display_name": "Python 3",
   "language": "python",
   "name": "python3"
  },
  "language_info": {
   "codemirror_mode": {
    "name": "ipython",
    "version": 3
   },
   "file_extension": ".py",
   "mimetype": "text/x-python",
   "name": "python",
   "nbconvert_exporter": "python",
   "pygments_lexer": "ipython3",
   "version": "3.8.10"
  },
  "livereveal": {
   "autolaunch": true
  }
 },
 "nbformat": 4,
 "nbformat_minor": 4
}
